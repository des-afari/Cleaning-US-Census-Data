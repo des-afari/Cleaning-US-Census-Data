{
 "cells": [
  {
   "cell_type": "markdown",
   "id": "b905086d",
   "metadata": {},
   "source": [
    "# Cleaning US Census Data"
   ]
  },
  {
   "cell_type": "markdown",
   "id": "df5ffb3b",
   "metadata": {},
   "source": [
    "You just got hired as a Data Analyst at the Census Bureau, which collects census data and creates interesting visualizations and insights from it.\n",
    "\n",
    "The person who had your job before you left you all the data they had for the most recent census. It is in multiple `csv` files. They didn't use pandas, they would just look through these `csv` files manually whenever they wanted to find something. Sometimes they would copy and paste certain numbers into Excel to make charts.\n",
    "\n",
    "The thought of it makes you shiver. This is not scalable or repeatable.\n",
    "\n",
    "Your boss wants you to make some scatterplots and histograms by the end of the day. Can you get this data into `pandas` and into reasonable shape so that you can make these histograms?"
   ]
  },
  {
   "cell_type": "code",
   "execution_count": 167,
   "id": "b7c9d5b4",
   "metadata": {},
   "outputs": [],
   "source": [
    "# import all modules\n",
    "import pandas as pd\n",
    "import numpy as np\n",
    "import seaborn as sns\n",
    "import matplotlib.pyplot as plt\n",
    "from glob import glob"
   ]
  },
  {
   "cell_type": "markdown",
   "id": "a2fc979e",
   "metadata": {},
   "source": [
    "We use `glob` to combine all csv files into one main dataframe"
   ]
  },
  {
   "cell_type": "code",
   "execution_count": 168,
   "id": "5a041932",
   "metadata": {},
   "outputs": [],
   "source": [
    "states = glob('states*.csv')\n",
    "\n",
    "df_list = []\n",
    "\n",
    "for state in states:\n",
    "    data = pd.read_csv(state)\n",
    "    df_list.append(data)\n",
    "    \n",
    "df = pd.concat(df_list)"
   ]
  },
  {
   "cell_type": "markdown",
   "id": "08ae9774",
   "metadata": {},
   "source": [
    "## Inspect data"
   ]
  },
  {
   "cell_type": "code",
   "execution_count": 169,
   "id": "1cce3675",
   "metadata": {},
   "outputs": [
    {
     "data": {
      "text/html": [
       "<div>\n",
       "<style scoped>\n",
       "    .dataframe tbody tr th:only-of-type {\n",
       "        vertical-align: middle;\n",
       "    }\n",
       "\n",
       "    .dataframe tbody tr th {\n",
       "        vertical-align: top;\n",
       "    }\n",
       "\n",
       "    .dataframe thead th {\n",
       "        text-align: right;\n",
       "    }\n",
       "</style>\n",
       "<table border=\"1\" class=\"dataframe\">\n",
       "  <thead>\n",
       "    <tr style=\"text-align: right;\">\n",
       "      <th></th>\n",
       "      <th>Unnamed: 0</th>\n",
       "      <th>State</th>\n",
       "      <th>TotalPop</th>\n",
       "      <th>Hispanic</th>\n",
       "      <th>White</th>\n",
       "      <th>Black</th>\n",
       "      <th>Native</th>\n",
       "      <th>Asian</th>\n",
       "      <th>Pacific</th>\n",
       "      <th>Income</th>\n",
       "      <th>GenderPop</th>\n",
       "    </tr>\n",
       "  </thead>\n",
       "  <tbody>\n",
       "    <tr>\n",
       "      <th>0</th>\n",
       "      <td>0</td>\n",
       "      <td>Alabama</td>\n",
       "      <td>4830620</td>\n",
       "      <td>3.75%</td>\n",
       "      <td>61.88%</td>\n",
       "      <td>31.25%</td>\n",
       "      <td>0.45%</td>\n",
       "      <td>1.05%</td>\n",
       "      <td>0.03%</td>\n",
       "      <td>$43,296.36</td>\n",
       "      <td>2341093M_2489527F</td>\n",
       "    </tr>\n",
       "    <tr>\n",
       "      <th>1</th>\n",
       "      <td>1</td>\n",
       "      <td>Alaska</td>\n",
       "      <td>733375</td>\n",
       "      <td>5.91%</td>\n",
       "      <td>60.91%</td>\n",
       "      <td>2.85%</td>\n",
       "      <td>16.39%</td>\n",
       "      <td>5.45%</td>\n",
       "      <td>1.06%</td>\n",
       "      <td>$70,354.74</td>\n",
       "      <td>384160M_349215F</td>\n",
       "    </tr>\n",
       "    <tr>\n",
       "      <th>2</th>\n",
       "      <td>2</td>\n",
       "      <td>Arizona</td>\n",
       "      <td>6641928</td>\n",
       "      <td>29.57%</td>\n",
       "      <td>57.12%</td>\n",
       "      <td>3.85%</td>\n",
       "      <td>4.36%</td>\n",
       "      <td>2.88%</td>\n",
       "      <td>0.17%</td>\n",
       "      <td>$54,207.82</td>\n",
       "      <td>3299088M_3342840F</td>\n",
       "    </tr>\n",
       "    <tr>\n",
       "      <th>3</th>\n",
       "      <td>3</td>\n",
       "      <td>Arkansas</td>\n",
       "      <td>2958208</td>\n",
       "      <td>6.22%</td>\n",
       "      <td>71.14%</td>\n",
       "      <td>18.97%</td>\n",
       "      <td>0.52%</td>\n",
       "      <td>1.14%</td>\n",
       "      <td>0.15%</td>\n",
       "      <td>$41,935.63</td>\n",
       "      <td>1451913M_1506295F</td>\n",
       "    </tr>\n",
       "    <tr>\n",
       "      <th>4</th>\n",
       "      <td>4</td>\n",
       "      <td>California</td>\n",
       "      <td>38421464</td>\n",
       "      <td>37.29%</td>\n",
       "      <td>40.22%</td>\n",
       "      <td>5.68%</td>\n",
       "      <td>0.41%</td>\n",
       "      <td>13.05%</td>\n",
       "      <td>0.35%</td>\n",
       "      <td>$67,264.78</td>\n",
       "      <td>19087135M_19334329F</td>\n",
       "    </tr>\n",
       "  </tbody>\n",
       "</table>\n",
       "</div>"
      ],
      "text/plain": [
       "   Unnamed: 0       State  TotalPop Hispanic   White   Black  Native   Asian  \\\n",
       "0           0     Alabama   4830620    3.75%  61.88%  31.25%   0.45%   1.05%   \n",
       "1           1      Alaska    733375    5.91%  60.91%   2.85%  16.39%   5.45%   \n",
       "2           2     Arizona   6641928   29.57%  57.12%   3.85%   4.36%   2.88%   \n",
       "3           3    Arkansas   2958208    6.22%  71.14%  18.97%   0.52%   1.14%   \n",
       "4           4  California  38421464   37.29%  40.22%   5.68%   0.41%  13.05%   \n",
       "\n",
       "  Pacific       Income            GenderPop  \n",
       "0   0.03%  $43,296.36     2341093M_2489527F  \n",
       "1   1.06%  $70,354.74       384160M_349215F  \n",
       "2   0.17%  $54,207.82     3299088M_3342840F  \n",
       "3   0.15%  $41,935.63     1451913M_1506295F  \n",
       "4   0.35%  $67,264.78   19087135M_19334329F  "
      ]
     },
     "execution_count": 169,
     "metadata": {},
     "output_type": "execute_result"
    }
   ],
   "source": [
    "df.head()"
   ]
  },
  {
   "cell_type": "code",
   "execution_count": 170,
   "id": "876cfd38",
   "metadata": {},
   "outputs": [
    {
     "data": {
      "text/plain": [
       "(60, 11)"
      ]
     },
     "execution_count": 170,
     "metadata": {},
     "output_type": "execute_result"
    }
   ],
   "source": [
    "df.shape"
   ]
  },
  {
   "cell_type": "code",
   "execution_count": 171,
   "id": "db4e0f92",
   "metadata": {},
   "outputs": [
    {
     "name": "stdout",
     "output_type": "stream",
     "text": [
      "<class 'pandas.core.frame.DataFrame'>\n",
      "Int64Index: 60 entries, 0 to 5\n",
      "Data columns (total 11 columns):\n",
      " #   Column      Non-Null Count  Dtype \n",
      "---  ------      --------------  ----- \n",
      " 0   Unnamed: 0  60 non-null     int64 \n",
      " 1   State       60 non-null     object\n",
      " 2   TotalPop    60 non-null     int64 \n",
      " 3   Hispanic    60 non-null     object\n",
      " 4   White       60 non-null     object\n",
      " 5   Black       60 non-null     object\n",
      " 6   Native      60 non-null     object\n",
      " 7   Asian       60 non-null     object\n",
      " 8   Pacific     55 non-null     object\n",
      " 9   Income      60 non-null     object\n",
      " 10  GenderPop   60 non-null     object\n",
      "dtypes: int64(2), object(9)\n",
      "memory usage: 5.6+ KB\n"
     ]
    }
   ],
   "source": [
    "df.info()"
   ]
  },
  {
   "cell_type": "code",
   "execution_count": 172,
   "id": "505d6716",
   "metadata": {},
   "outputs": [
    {
     "data": {
      "text/plain": [
       "Index(['Unnamed: 0', 'State', 'TotalPop', 'Hispanic', 'White', 'Black',\n",
       "       'Native', 'Asian', 'Pacific', 'Income', 'GenderPop'],\n",
       "      dtype='object')"
      ]
     },
     "execution_count": 172,
     "metadata": {},
     "output_type": "execute_result"
    }
   ],
   "source": [
    "df.columns"
   ]
  },
  {
   "cell_type": "code",
   "execution_count": 173,
   "id": "6b41546b",
   "metadata": {},
   "outputs": [
    {
     "data": {
      "text/plain": [
       "Unnamed: 0     int64\n",
       "State         object\n",
       "TotalPop       int64\n",
       "Hispanic      object\n",
       "White         object\n",
       "Black         object\n",
       "Native        object\n",
       "Asian         object\n",
       "Pacific       object\n",
       "Income        object\n",
       "GenderPop     object\n",
       "dtype: object"
      ]
     },
     "execution_count": 173,
     "metadata": {},
     "output_type": "execute_result"
    }
   ],
   "source": [
    "df.dtypes"
   ]
  },
  {
   "cell_type": "markdown",
   "id": "bbdcff94",
   "metadata": {},
   "source": [
    "## Cleaning data"
   ]
  },
  {
   "cell_type": "code",
   "execution_count": 174,
   "id": "de0d5d84",
   "metadata": {},
   "outputs": [
    {
     "data": {
      "text/html": [
       "<div>\n",
       "<style scoped>\n",
       "    .dataframe tbody tr th:only-of-type {\n",
       "        vertical-align: middle;\n",
       "    }\n",
       "\n",
       "    .dataframe tbody tr th {\n",
       "        vertical-align: top;\n",
       "    }\n",
       "\n",
       "    .dataframe thead th {\n",
       "        text-align: right;\n",
       "    }\n",
       "</style>\n",
       "<table border=\"1\" class=\"dataframe\">\n",
       "  <thead>\n",
       "    <tr style=\"text-align: right;\">\n",
       "      <th></th>\n",
       "      <th>Unnamed: 0</th>\n",
       "      <th>State</th>\n",
       "      <th>TotalPop</th>\n",
       "      <th>Hispanic</th>\n",
       "      <th>White</th>\n",
       "      <th>Black</th>\n",
       "      <th>Native</th>\n",
       "      <th>Asian</th>\n",
       "      <th>Pacific</th>\n",
       "      <th>Income</th>\n",
       "      <th>GenderPop</th>\n",
       "    </tr>\n",
       "  </thead>\n",
       "  <tbody>\n",
       "    <tr>\n",
       "      <th>0</th>\n",
       "      <td>0</td>\n",
       "      <td>Colorado</td>\n",
       "      <td>5278906</td>\n",
       "      <td>20.78%</td>\n",
       "      <td>69.90%</td>\n",
       "      <td>3.55%</td>\n",
       "      <td>0.57%</td>\n",
       "      <td>2.66%</td>\n",
       "      <td>NaN</td>\n",
       "      <td>$64,657.80</td>\n",
       "      <td>2648667M_2630239F</td>\n",
       "    </tr>\n",
       "    <tr>\n",
       "      <th>0</th>\n",
       "      <td>0</td>\n",
       "      <td>Georgia</td>\n",
       "      <td>10006693</td>\n",
       "      <td>8.42%</td>\n",
       "      <td>54.29%</td>\n",
       "      <td>32.09%</td>\n",
       "      <td>0.19%</td>\n",
       "      <td>3.10%</td>\n",
       "      <td>0.05%</td>\n",
       "      <td>$50,811.08</td>\n",
       "      <td>4883331M_5123362F</td>\n",
       "    </tr>\n",
       "    <tr>\n",
       "      <th>0</th>\n",
       "      <td>0</td>\n",
       "      <td>Iowa</td>\n",
       "      <td>3093526</td>\n",
       "      <td>5.30%</td>\n",
       "      <td>87.72%</td>\n",
       "      <td>3.26%</td>\n",
       "      <td>0.29%</td>\n",
       "      <td>1.70%</td>\n",
       "      <td>0.06%</td>\n",
       "      <td>$53,017.75</td>\n",
       "      <td>1534595M_1558931F</td>\n",
       "    </tr>\n",
       "    <tr>\n",
       "      <th>0</th>\n",
       "      <td>0</td>\n",
       "      <td>Maryland</td>\n",
       "      <td>5930538</td>\n",
       "      <td>8.47%</td>\n",
       "      <td>52.68%</td>\n",
       "      <td>30.68%</td>\n",
       "      <td>0.20%</td>\n",
       "      <td>5.33%</td>\n",
       "      <td>0.04%</td>\n",
       "      <td>$78,765.40</td>\n",
       "      <td>2872643M_F</td>\n",
       "    </tr>\n",
       "    <tr>\n",
       "      <th>0</th>\n",
       "      <td>0</td>\n",
       "      <td>Missouri</td>\n",
       "      <td>6045448</td>\n",
       "      <td>4.04%</td>\n",
       "      <td>77.51%</td>\n",
       "      <td>14.12%</td>\n",
       "      <td>0.36%</td>\n",
       "      <td>1.62%</td>\n",
       "      <td>0.10%</td>\n",
       "      <td>$49,763.99</td>\n",
       "      <td>2964003M_3081445F</td>\n",
       "    </tr>\n",
       "    <tr>\n",
       "      <th>0</th>\n",
       "      <td>0</td>\n",
       "      <td>New Jersey</td>\n",
       "      <td>8904413</td>\n",
       "      <td>18.75%</td>\n",
       "      <td>56.49%</td>\n",
       "      <td>14.39%</td>\n",
       "      <td>0.12%</td>\n",
       "      <td>8.16%</td>\n",
       "      <td>0.03%</td>\n",
       "      <td>$76,581.08</td>\n",
       "      <td>4343027M_4561386F</td>\n",
       "    </tr>\n",
       "    <tr>\n",
       "      <th>0</th>\n",
       "      <td>0</td>\n",
       "      <td>Ohio</td>\n",
       "      <td>11575977</td>\n",
       "      <td>3.67%</td>\n",
       "      <td>75.90%</td>\n",
       "      <td>16.21%</td>\n",
       "      <td>0.17%</td>\n",
       "      <td>1.62%</td>\n",
       "      <td>0.02%</td>\n",
       "      <td>$49,655.25</td>\n",
       "      <td>5662893M_5913084F</td>\n",
       "    </tr>\n",
       "    <tr>\n",
       "      <th>0</th>\n",
       "      <td>0</td>\n",
       "      <td>Rhode Island</td>\n",
       "      <td>1053661</td>\n",
       "      <td>13.36%</td>\n",
       "      <td>74.33%</td>\n",
       "      <td>5.68%</td>\n",
       "      <td>0.35%</td>\n",
       "      <td>3.25%</td>\n",
       "      <td>0.04%</td>\n",
       "      <td>$59,125.27</td>\n",
       "      <td>510388M_543273F</td>\n",
       "    </tr>\n",
       "    <tr>\n",
       "      <th>0</th>\n",
       "      <td>0</td>\n",
       "      <td>Utah</td>\n",
       "      <td>2903379</td>\n",
       "      <td>13.47%</td>\n",
       "      <td>79.41%</td>\n",
       "      <td>1.02%</td>\n",
       "      <td>1.08%</td>\n",
       "      <td>2.20%</td>\n",
       "      <td>0.83%</td>\n",
       "      <td>$63,488.92</td>\n",
       "      <td>1459229M_1444150F</td>\n",
       "    </tr>\n",
       "  </tbody>\n",
       "</table>\n",
       "</div>"
      ],
      "text/plain": [
       "   Unnamed: 0         State  TotalPop Hispanic   White   Black Native  Asian  \\\n",
       "0           0      Colorado   5278906   20.78%  69.90%   3.55%  0.57%  2.66%   \n",
       "0           0       Georgia  10006693    8.42%  54.29%  32.09%  0.19%  3.10%   \n",
       "0           0          Iowa   3093526    5.30%  87.72%   3.26%  0.29%  1.70%   \n",
       "0           0      Maryland   5930538    8.47%  52.68%  30.68%  0.20%  5.33%   \n",
       "0           0      Missouri   6045448    4.04%  77.51%  14.12%  0.36%  1.62%   \n",
       "0           0    New Jersey   8904413   18.75%  56.49%  14.39%  0.12%  8.16%   \n",
       "0           0          Ohio  11575977    3.67%  75.90%  16.21%  0.17%  1.62%   \n",
       "0           0  Rhode Island   1053661   13.36%  74.33%   5.68%  0.35%  3.25%   \n",
       "0           0          Utah   2903379   13.47%  79.41%   1.02%  1.08%  2.20%   \n",
       "\n",
       "  Pacific       Income          GenderPop  \n",
       "0     NaN  $64,657.80   2648667M_2630239F  \n",
       "0   0.05%  $50,811.08   4883331M_5123362F  \n",
       "0   0.06%  $53,017.75   1534595M_1558931F  \n",
       "0   0.04%  $78,765.40          2872643M_F  \n",
       "0   0.10%  $49,763.99   2964003M_3081445F  \n",
       "0   0.03%  $76,581.08   4343027M_4561386F  \n",
       "0   0.02%  $49,655.25   5662893M_5913084F  \n",
       "0   0.04%  $59,125.27     510388M_543273F  \n",
       "0   0.83%  $63,488.92   1459229M_1444150F  "
      ]
     },
     "execution_count": 174,
     "metadata": {},
     "output_type": "execute_result"
    }
   ],
   "source": [
    "# duplicates\n",
    "# some information is repeated and must be removed\n",
    "df[df.duplicated(subset=['State'])]"
   ]
  },
  {
   "cell_type": "code",
   "execution_count": 175,
   "id": "5dcab5e2",
   "metadata": {},
   "outputs": [],
   "source": [
    "# dropping duplicates\n",
    "df = df.drop_duplicates(subset=['State'])"
   ]
  },
  {
   "cell_type": "code",
   "execution_count": 176,
   "id": "c452bd5e",
   "metadata": {},
   "outputs": [],
   "source": [
    "# District of Columbia is not a state and should be removed\n",
    "df = df[df['State'] != 'District of Columbia']"
   ]
  },
  {
   "cell_type": "code",
   "execution_count": 177,
   "id": "9c2b866b",
   "metadata": {},
   "outputs": [],
   "source": [
    "# income\n",
    "# converting income to a float and removing the $ sign\n",
    "df.Income = pd.to_numeric(df.Income.replace('[\\$,]+', '', regex=True))"
   ]
  },
  {
   "cell_type": "code",
   "execution_count": 178,
   "id": "d743f07c",
   "metadata": {},
   "outputs": [],
   "source": [
    "# spliting genderPop into male and female\n",
    "gender_split = df.GenderPop.str.split('_', expand=True)\n",
    "df['Male'] = gender_split.get(0)\n",
    "df['Female'] = gender_split.get(1)"
   ]
  },
  {
   "cell_type": "code",
   "execution_count": 179,
   "id": "1ef89e38",
   "metadata": {},
   "outputs": [],
   "source": [
    "# coverting values to numeric\n",
    "df['Male'] = pd.to_numeric(df.Male.replace('(M)', '', regex=True))\n",
    "df['Female'] = pd.to_numeric(df.Female.replace('(F)', '', regex=True))"
   ]
  },
  {
   "cell_type": "code",
   "execution_count": 180,
   "id": "5d421866",
   "metadata": {},
   "outputs": [
    {
     "name": "stdout",
     "output_type": "stream",
     "text": [
      "<class 'pandas.core.frame.DataFrame'>\n",
      "Int64Index: 50 entries, 0 to 5\n",
      "Data columns (total 13 columns):\n",
      " #   Column      Non-Null Count  Dtype  \n",
      "---  ------      --------------  -----  \n",
      " 0   Unnamed: 0  50 non-null     int64  \n",
      " 1   State       50 non-null     object \n",
      " 2   TotalPop    50 non-null     int64  \n",
      " 3   Hispanic    50 non-null     object \n",
      " 4   White       50 non-null     object \n",
      " 5   Black       50 non-null     object \n",
      " 6   Native      50 non-null     object \n",
      " 7   Asian       50 non-null     object \n",
      " 8   Pacific     46 non-null     object \n",
      " 9   Income      50 non-null     float64\n",
      " 10  GenderPop   50 non-null     object \n",
      " 11  Male        50 non-null     int64  \n",
      " 12  Female      48 non-null     float64\n",
      "dtypes: float64(2), int64(3), object(8)\n",
      "memory usage: 5.5+ KB\n"
     ]
    }
   ],
   "source": [
    "df.info()"
   ]
  },
  {
   "cell_type": "markdown",
   "id": "53e60439",
   "metadata": {},
   "source": [
    "we can conclude that some data in the female pacific columns are missing  \\\n",
    "to fix the female column, you subtract men population from total population using `fillna()` "
   ]
  },
  {
   "cell_type": "code",
   "execution_count": 181,
   "id": "7465b076",
   "metadata": {},
   "outputs": [],
   "source": [
    "df.Female.fillna(df.TotalPop - df.Male, inplace=True)"
   ]
  },
  {
   "cell_type": "code",
   "execution_count": 182,
   "id": "55b68516",
   "metadata": {},
   "outputs": [
    {
     "name": "stdout",
     "output_type": "stream",
     "text": [
      "<class 'pandas.core.frame.DataFrame'>\n",
      "Int64Index: 50 entries, 0 to 5\n",
      "Data columns (total 13 columns):\n",
      " #   Column      Non-Null Count  Dtype  \n",
      "---  ------      --------------  -----  \n",
      " 0   Unnamed: 0  50 non-null     int64  \n",
      " 1   State       50 non-null     object \n",
      " 2   TotalPop    50 non-null     int64  \n",
      " 3   Hispanic    50 non-null     object \n",
      " 4   White       50 non-null     object \n",
      " 5   Black       50 non-null     object \n",
      " 6   Native      50 non-null     object \n",
      " 7   Asian       50 non-null     object \n",
      " 8   Pacific     46 non-null     object \n",
      " 9   Income      50 non-null     float64\n",
      " 10  GenderPop   50 non-null     object \n",
      " 11  Male        50 non-null     int64  \n",
      " 12  Female      50 non-null     float64\n",
      "dtypes: float64(2), int64(3), object(8)\n",
      "memory usage: 5.5+ KB\n"
     ]
    }
   ],
   "source": [
    "df.info()"
   ]
  },
  {
   "cell_type": "code",
   "execution_count": 183,
   "id": "76a346a6",
   "metadata": {},
   "outputs": [],
   "source": [
    "df = df[['State', 'TotalPop', 'Hispanic', 'White', 'Black', 'Native', 'Asian', 'Pacific', 'Income', 'Male', 'Female']]"
   ]
  },
  {
   "cell_type": "code",
   "execution_count": 184,
   "id": "a9f1dd19",
   "metadata": {},
   "outputs": [
    {
     "data": {
      "text/html": [
       "<div>\n",
       "<style scoped>\n",
       "    .dataframe tbody tr th:only-of-type {\n",
       "        vertical-align: middle;\n",
       "    }\n",
       "\n",
       "    .dataframe tbody tr th {\n",
       "        vertical-align: top;\n",
       "    }\n",
       "\n",
       "    .dataframe thead th {\n",
       "        text-align: right;\n",
       "    }\n",
       "</style>\n",
       "<table border=\"1\" class=\"dataframe\">\n",
       "  <thead>\n",
       "    <tr style=\"text-align: right;\">\n",
       "      <th></th>\n",
       "      <th>State</th>\n",
       "      <th>TotalPop</th>\n",
       "      <th>Hispanic</th>\n",
       "      <th>White</th>\n",
       "      <th>Black</th>\n",
       "      <th>Native</th>\n",
       "      <th>Asian</th>\n",
       "      <th>Pacific</th>\n",
       "      <th>Income</th>\n",
       "      <th>Male</th>\n",
       "      <th>Female</th>\n",
       "    </tr>\n",
       "  </thead>\n",
       "  <tbody>\n",
       "    <tr>\n",
       "      <th>0</th>\n",
       "      <td>Alabama</td>\n",
       "      <td>4830620</td>\n",
       "      <td>3.75%</td>\n",
       "      <td>61.88%</td>\n",
       "      <td>31.25%</td>\n",
       "      <td>0.45%</td>\n",
       "      <td>1.05%</td>\n",
       "      <td>0.03%</td>\n",
       "      <td>43296.36</td>\n",
       "      <td>2341093</td>\n",
       "      <td>2489527.0</td>\n",
       "    </tr>\n",
       "    <tr>\n",
       "      <th>1</th>\n",
       "      <td>Alaska</td>\n",
       "      <td>733375</td>\n",
       "      <td>5.91%</td>\n",
       "      <td>60.91%</td>\n",
       "      <td>2.85%</td>\n",
       "      <td>16.39%</td>\n",
       "      <td>5.45%</td>\n",
       "      <td>1.06%</td>\n",
       "      <td>70354.74</td>\n",
       "      <td>384160</td>\n",
       "      <td>349215.0</td>\n",
       "    </tr>\n",
       "    <tr>\n",
       "      <th>2</th>\n",
       "      <td>Arizona</td>\n",
       "      <td>6641928</td>\n",
       "      <td>29.57%</td>\n",
       "      <td>57.12%</td>\n",
       "      <td>3.85%</td>\n",
       "      <td>4.36%</td>\n",
       "      <td>2.88%</td>\n",
       "      <td>0.17%</td>\n",
       "      <td>54207.82</td>\n",
       "      <td>3299088</td>\n",
       "      <td>3342840.0</td>\n",
       "    </tr>\n",
       "    <tr>\n",
       "      <th>3</th>\n",
       "      <td>Arkansas</td>\n",
       "      <td>2958208</td>\n",
       "      <td>6.22%</td>\n",
       "      <td>71.14%</td>\n",
       "      <td>18.97%</td>\n",
       "      <td>0.52%</td>\n",
       "      <td>1.14%</td>\n",
       "      <td>0.15%</td>\n",
       "      <td>41935.63</td>\n",
       "      <td>1451913</td>\n",
       "      <td>1506295.0</td>\n",
       "    </tr>\n",
       "    <tr>\n",
       "      <th>4</th>\n",
       "      <td>California</td>\n",
       "      <td>38421464</td>\n",
       "      <td>37.29%</td>\n",
       "      <td>40.22%</td>\n",
       "      <td>5.68%</td>\n",
       "      <td>0.41%</td>\n",
       "      <td>13.05%</td>\n",
       "      <td>0.35%</td>\n",
       "      <td>67264.78</td>\n",
       "      <td>19087135</td>\n",
       "      <td>19334329.0</td>\n",
       "    </tr>\n",
       "  </tbody>\n",
       "</table>\n",
       "</div>"
      ],
      "text/plain": [
       "        State  TotalPop Hispanic   White   Black  Native   Asian Pacific  \\\n",
       "0     Alabama   4830620    3.75%  61.88%  31.25%   0.45%   1.05%   0.03%   \n",
       "1      Alaska    733375    5.91%  60.91%   2.85%  16.39%   5.45%   1.06%   \n",
       "2     Arizona   6641928   29.57%  57.12%   3.85%   4.36%   2.88%   0.17%   \n",
       "3    Arkansas   2958208    6.22%  71.14%  18.97%   0.52%   1.14%   0.15%   \n",
       "4  California  38421464   37.29%  40.22%   5.68%   0.41%  13.05%   0.35%   \n",
       "\n",
       "     Income      Male      Female  \n",
       "0  43296.36   2341093   2489527.0  \n",
       "1  70354.74    384160    349215.0  \n",
       "2  54207.82   3299088   3342840.0  \n",
       "3  41935.63   1451913   1506295.0  \n",
       "4  67264.78  19087135  19334329.0  "
      ]
     },
     "execution_count": 184,
     "metadata": {},
     "output_type": "execute_result"
    }
   ],
   "source": [
    "df.head()"
   ]
  },
  {
   "cell_type": "markdown",
   "id": "0008071b",
   "metadata": {},
   "source": [
    "## Plot data"
   ]
  },
  {
   "cell_type": "code",
   "execution_count": 185,
   "id": "eef65486",
   "metadata": {},
   "outputs": [
    {
     "data": {
      "image/png": "[encoded data removed]",
      "text/plain": [
       "<Figure size 640x480 with 1 Axes>"
      ]
     },
     "metadata": {},
     "output_type": "display_data"
    },
    {
     "data": {
      "text/plain": [
       "<Figure size 640x480 with 0 Axes>"
      ]
     },
     "metadata": {},
     "output_type": "display_data"
    }
   ],
   "source": [
    "# scatter plot income x female\n",
    "sns.scatterplot(x=df.Female, y=df.Income)\n",
    "plt.title(\"Scatter Plot of Income vs. Number of Women per State\")\n",
    "plt.show()\n",
    "plt.clf()"
   ]
  },
  {
   "cell_type": "markdown",
   "id": "ffcd6b2c",
   "metadata": {},
   "source": [
    "### Preparing data for histogram"
   ]
  },
  {
   "cell_type": "code",
   "execution_count": 211,
   "id": "c8e01937",
   "metadata": {},
   "outputs": [],
   "source": [
    "# changing all values to floats\n",
    "races = ['Hispanic', 'White', 'Black', 'Native', 'Asian', 'Pacific']\n",
    "\n",
    "for race in races:\n",
    "    df[race] = pd.to_numeric(df[race].str.replace('%', ''))"
   ]
  },
  {
   "cell_type": "code",
   "execution_count": 216,
   "id": "dfea12ad",
   "metadata": {},
   "outputs": [],
   "source": [
    "# filling in Pacific data\n",
    "df.Pacific.fillna(100.0 - df.Hispanic - df.White - df.Black - df.Native - df.Asian, inplace=True)"
   ]
  },
  {
   "cell_type": "code",
   "execution_count": 218,
   "id": "5957dd66",
   "metadata": {},
   "outputs": [
    {
     "name": "stdout",
     "output_type": "stream",
     "text": [
      "<class 'pandas.core.frame.DataFrame'>\n",
      "Int64Index: 50 entries, 0 to 5\n",
      "Data columns (total 11 columns):\n",
      " #   Column    Non-Null Count  Dtype  \n",
      "---  ------    --------------  -----  \n",
      " 0   State     50 non-null     object \n",
      " 1   TotalPop  50 non-null     int64  \n",
      " 2   Hispanic  50 non-null     float64\n",
      " 3   White     50 non-null     float64\n",
      " 4   Black     50 non-null     float64\n",
      " 5   Native    50 non-null     float64\n",
      " 6   Asian     50 non-null     float64\n",
      " 7   Pacific   50 non-null     float64\n",
      " 8   Income    50 non-null     float64\n",
      " 9   Male      50 non-null     int64  \n",
      " 10  Female    50 non-null     float64\n",
      "dtypes: float64(8), int64(2), object(1)\n",
      "memory usage: 4.7+ KB\n"
     ]
    }
   ],
   "source": [
    "df.info()\n",
    "## our data is now fully cleaned"
   ]
  },
  {
   "cell_type": "code",
   "execution_count": null,
   "id": "9e9daa70",
   "metadata": {},
   "outputs": [],
   "source": []
  }
 ],
 "metadata": {
  "kernelspec": {
   "display_name": "Python 3 (ipykernel)",
   "language": "python",
   "name": "python3"
  },
  "language_info": {
   "codemirror_mode": {
    "name": "ipython",
    "version": 3
   },
   "file_extension": ".py",
   "mimetype": "text/x-python",
   "name": "python",
   "nbconvert_exporter": "python",
   "pygments_lexer": "ipython3",
   "version": "3.9.13"
  }
 },
 "nbformat": 4,
 "nbformat_minor": 5
}
